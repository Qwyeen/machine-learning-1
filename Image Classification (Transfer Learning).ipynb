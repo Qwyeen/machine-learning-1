{
 "cells": [
  {
   "cell_type": "code",
   "execution_count": 1,
   "metadata": {},
   "outputs": [],
   "source": [
    "# Using Conv Nets to classify iamges\n",
    "# There are 5 categories: arctic fox, earless seal, penguin, polar bear, snow leopard\n",
    "# Each class has around 400 images in total\n",
    "# The data are split into training set (80%), validation set (10%), and test set (10%)\n",
    "# The model uses transfer learning from VGG16."
   ]
  },
  {
   "cell_type": "code",
   "execution_count": 2,
   "metadata": {},
   "outputs": [],
   "source": [
    "from keras.applications import VGG16\n",
    "\n",
    "conv_base = VGG16(weights='imagenet',\n",
    "                  include_top=False,\n",
    "                  input_shape=(150, 150, 3))"
   ]
  },
  {
   "cell_type": "code",
   "execution_count": 3,
   "metadata": {},
   "outputs": [
    {
     "name": "stdout",
     "output_type": "stream",
     "text": [
      "Model: \"vgg16\"\n",
      "_________________________________________________________________\n",
      "Layer (type)                 Output Shape              Param #   \n",
      "=================================================================\n",
      "input_1 (InputLayer)         [(None, 150, 150, 3)]     0         \n",
      "_________________________________________________________________\n",
      "block1_conv1 (Conv2D)        (None, 150, 150, 64)      1792      \n",
      "_________________________________________________________________\n",
      "block1_conv2 (Conv2D)        (None, 150, 150, 64)      36928     \n",
      "_________________________________________________________________\n",
      "block1_pool (MaxPooling2D)   (None, 75, 75, 64)        0         \n",
      "_________________________________________________________________\n",
      "block2_conv1 (Conv2D)        (None, 75, 75, 128)       73856     \n",
      "_________________________________________________________________\n",
      "block2_conv2 (Conv2D)        (None, 75, 75, 128)       147584    \n",
      "_________________________________________________________________\n",
      "block2_pool (MaxPooling2D)   (None, 37, 37, 128)       0         \n",
      "_________________________________________________________________\n",
      "block3_conv1 (Conv2D)        (None, 37, 37, 256)       295168    \n",
      "_________________________________________________________________\n",
      "block3_conv2 (Conv2D)        (None, 37, 37, 256)       590080    \n",
      "_________________________________________________________________\n",
      "block3_conv3 (Conv2D)        (None, 37, 37, 256)       590080    \n",
      "_________________________________________________________________\n",
      "block3_pool (MaxPooling2D)   (None, 18, 18, 256)       0         \n",
      "_________________________________________________________________\n",
      "block4_conv1 (Conv2D)        (None, 18, 18, 512)       1180160   \n",
      "_________________________________________________________________\n",
      "block4_conv2 (Conv2D)        (None, 18, 18, 512)       2359808   \n",
      "_________________________________________________________________\n",
      "block4_conv3 (Conv2D)        (None, 18, 18, 512)       2359808   \n",
      "_________________________________________________________________\n",
      "block4_pool (MaxPooling2D)   (None, 9, 9, 512)         0         \n",
      "_________________________________________________________________\n",
      "block5_conv1 (Conv2D)        (None, 9, 9, 512)         2359808   \n",
      "_________________________________________________________________\n",
      "block5_conv2 (Conv2D)        (None, 9, 9, 512)         2359808   \n",
      "_________________________________________________________________\n",
      "block5_conv3 (Conv2D)        (None, 9, 9, 512)         2359808   \n",
      "_________________________________________________________________\n",
      "block5_pool (MaxPooling2D)   (None, 4, 4, 512)         0         \n",
      "=================================================================\n",
      "Total params: 14,714,688\n",
      "Trainable params: 14,714,688\n",
      "Non-trainable params: 0\n",
      "_________________________________________________________________\n"
     ]
    }
   ],
   "source": [
    "conv_base.summary()"
   ]
  },
  {
   "cell_type": "code",
   "execution_count": 4,
   "metadata": {},
   "outputs": [],
   "source": [
    "import os\n",
    "import numpy as np\n",
    "from keras.preprocessing.image import ImageDataGenerator"
   ]
  },
  {
   "cell_type": "code",
   "execution_count": 5,
   "metadata": {},
   "outputs": [],
   "source": [
    "base_dir = 'E:/pictures splited'\n",
    "train_dir = os.path.join(base_dir,'train')\n",
    "validation_dir = os.path.join(base_dir,'validation')"
   ]
  },
  {
   "cell_type": "code",
   "execution_count": 6,
   "metadata": {},
   "outputs": [],
   "source": [
    "datagen = ImageDataGenerator(rescale=1./255)\n",
    "batch_size = 20"
   ]
  },
  {
   "cell_type": "code",
   "execution_count": 7,
   "metadata": {},
   "outputs": [
    {
     "name": "stdout",
     "output_type": "stream",
     "text": [
      "Found 1583 images belonging to 5 classes.\n"
     ]
    },
    {
     "name": "stderr",
     "output_type": "stream",
     "text": [
      "C:\\ProgramData\\Anaconda3\\lib\\site-packages\\PIL\\Image.py:960: UserWarning: Palette images with Transparency expressed in bytes should be converted to RGBA images\n",
      "  warnings.warn(\n"
     ]
    }
   ],
   "source": [
    "def extract_features(directory, sample_count):\n",
    "    features = np.zeros(shape=(sample_count, 4, 4, 512))\n",
    "    labels = np.zeros(shape=(sample_count,5))\n",
    "    generator = datagen.flow_from_directory(\n",
    "        directory,\n",
    "        target_size=(150, 150),\n",
    "        batch_size=batch_size,\n",
    "        class_mode='categorical')\n",
    "    i = 0\n",
    "    for inputs_batch, labels_batch in generator:\n",
    "        features_batch = conv_base.predict(inputs_batch)\n",
    "        features[i * batch_size : (i + 1) * batch_size] = features_batch\n",
    "        labels[i * batch_size : (i + 1) * batch_size] = labels_batch\n",
    "        i += 1\n",
    "        if i * batch_size >= sample_count:\n",
    "            # Note that since generators yield data indefinitely in a loop,\n",
    "            # we must `break` after every image has been seen once.\n",
    "            break\n",
    "    return features, labels\n",
    "\n",
    "train_features, train_labels = extract_features(train_dir, 1583)"
   ]
  },
  {
   "cell_type": "code",
   "execution_count": 11,
   "metadata": {},
   "outputs": [
    {
     "name": "stdout",
     "output_type": "stream",
     "text": [
      "Found 400 images belonging to 5 classes.\n"
     ]
    }
   ],
   "source": [
    "validation_features, validation_labels = extract_features(validation_dir, 400)"
   ]
  },
  {
   "cell_type": "code",
   "execution_count": 9,
   "metadata": {},
   "outputs": [],
   "source": [
    "train_features = np.reshape(train_features, (1583, 4 * 4 * 512))\n"
   ]
  },
  {
   "cell_type": "code",
   "execution_count": 13,
   "metadata": {},
   "outputs": [],
   "source": [
    "validation_features = np.reshape(validation_features, (400, 4 * 4 * 512))"
   ]
  },
  {
   "cell_type": "code",
   "execution_count": 14,
   "metadata": {},
   "outputs": [],
   "source": [
    "from keras import models\n",
    "from keras import layers\n",
    "from keras import optimizers"
   ]
  },
  {
   "cell_type": "code",
   "execution_count": 15,
   "metadata": {},
   "outputs": [],
   "source": [
    "model = models.Sequential()\n",
    "model.add(layers.Dense(256, activation='relu', input_dim=4 * 4 * 512))\n",
    "model.add(layers.Dropout(0.5))\n",
    "model.add(layers.Dense(5, activation='softmax'))"
   ]
  },
  {
   "cell_type": "code",
   "execution_count": 16,
   "metadata": {},
   "outputs": [],
   "source": [
    "model.compile(optimizer=optimizers.RMSprop(lr=2e-5),\n",
    "              loss='categorical_crossentropy',\n",
    "              metrics=['accuracy'])"
   ]
  },
  {
   "cell_type": "code",
   "execution_count": 17,
   "metadata": {},
   "outputs": [
    {
     "name": "stdout",
     "output_type": "stream",
     "text": [
      "Epoch 1/30\n",
      "80/80 [==============================] - 2s 19ms/step - loss: 1.5848 - accuracy: 0.3449 - val_loss: 1.2206 - val_accuracy: 0.5900\n",
      "Epoch 2/30\n",
      "80/80 [==============================] - 1s 18ms/step - loss: 1.1944 - accuracy: 0.5262 - val_loss: 0.9966 - val_accuracy: 0.6750\n",
      "Epoch 3/30\n",
      "80/80 [==============================] - 1s 18ms/step - loss: 0.9546 - accuracy: 0.6494 - val_loss: 0.8648 - val_accuracy: 0.7025\n",
      "Epoch 4/30\n",
      "80/80 [==============================] - 1s 18ms/step - loss: 0.8208 - accuracy: 0.7006 - val_loss: 0.7819 - val_accuracy: 0.7200\n",
      "Epoch 5/30\n",
      "80/80 [==============================] - 1s 18ms/step - loss: 0.7176 - accuracy: 0.7511 - val_loss: 0.7388 - val_accuracy: 0.7375\n",
      "Epoch 6/30\n",
      "80/80 [==============================] - 1s 18ms/step - loss: 0.6518 - accuracy: 0.7682 - val_loss: 0.6823 - val_accuracy: 0.7675\n",
      "Epoch 7/30\n",
      "80/80 [==============================] - 1s 18ms/step - loss: 0.5955 - accuracy: 0.7953 - val_loss: 0.6594 - val_accuracy: 0.7800\n",
      "Epoch 8/30\n",
      "80/80 [==============================] - 1s 18ms/step - loss: 0.5550 - accuracy: 0.8054 - val_loss: 0.6275 - val_accuracy: 0.7650\n",
      "Epoch 9/30\n",
      "80/80 [==============================] - 1s 18ms/step - loss: 0.5126 - accuracy: 0.8269 - val_loss: 0.6083 - val_accuracy: 0.7825\n",
      "Epoch 10/30\n",
      "80/80 [==============================] - 1s 18ms/step - loss: 0.4930 - accuracy: 0.8364 - val_loss: 0.5870 - val_accuracy: 0.7975\n",
      "Epoch 11/30\n",
      "80/80 [==============================] - 1s 18ms/step - loss: 0.4495 - accuracy: 0.8566 - val_loss: 0.5786 - val_accuracy: 0.7825\n",
      "Epoch 12/30\n",
      "80/80 [==============================] - 1s 18ms/step - loss: 0.4308 - accuracy: 0.8591 - val_loss: 0.5757 - val_accuracy: 0.7975\n",
      "Epoch 13/30\n",
      "80/80 [==============================] - 1s 18ms/step - loss: 0.4081 - accuracy: 0.8673 - val_loss: 0.5472 - val_accuracy: 0.8050\n",
      "Epoch 14/30\n",
      "80/80 [==============================] - 1s 18ms/step - loss: 0.3889 - accuracy: 0.8699 - val_loss: 0.5427 - val_accuracy: 0.8075\n",
      "Epoch 15/30\n",
      "80/80 [==============================] - 1s 18ms/step - loss: 0.3678 - accuracy: 0.8762 - val_loss: 0.5268 - val_accuracy: 0.8125\n",
      "Epoch 16/30\n",
      "80/80 [==============================] - 1s 18ms/step - loss: 0.3330 - accuracy: 0.9033 - val_loss: 0.5321 - val_accuracy: 0.7925\n",
      "Epoch 17/30\n",
      "80/80 [==============================] - 1s 18ms/step - loss: 0.3215 - accuracy: 0.8983 - val_loss: 0.5185 - val_accuracy: 0.8250\n",
      "Epoch 18/30\n",
      "80/80 [==============================] - 1s 18ms/step - loss: 0.3261 - accuracy: 0.8951 - val_loss: 0.5127 - val_accuracy: 0.8000\n",
      "Epoch 19/30\n",
      "80/80 [==============================] - 1s 18ms/step - loss: 0.3163 - accuracy: 0.9033 - val_loss: 0.5311 - val_accuracy: 0.8100\n",
      "Epoch 20/30\n",
      "80/80 [==============================] - 1s 18ms/step - loss: 0.2864 - accuracy: 0.9229 - val_loss: 0.5107 - val_accuracy: 0.8200\n",
      "Epoch 21/30\n",
      "80/80 [==============================] - 1s 18ms/step - loss: 0.2811 - accuracy: 0.9128 - val_loss: 0.5016 - val_accuracy: 0.8150\n",
      "Epoch 22/30\n",
      "80/80 [==============================] - 1s 18ms/step - loss: 0.2714 - accuracy: 0.9248 - val_loss: 0.4879 - val_accuracy: 0.8100\n",
      "Epoch 23/30\n",
      "80/80 [==============================] - 1s 18ms/step - loss: 0.2580 - accuracy: 0.9198 - val_loss: 0.4852 - val_accuracy: 0.8075\n",
      "Epoch 24/30\n",
      "80/80 [==============================] - 1s 18ms/step - loss: 0.2409 - accuracy: 0.9356 - val_loss: 0.4876 - val_accuracy: 0.8250\n",
      "Epoch 25/30\n",
      "80/80 [==============================] - 1s 18ms/step - loss: 0.2435 - accuracy: 0.9242 - val_loss: 0.4892 - val_accuracy: 0.8100\n",
      "Epoch 26/30\n",
      "80/80 [==============================] - 1s 18ms/step - loss: 0.2389 - accuracy: 0.9280 - val_loss: 0.4833 - val_accuracy: 0.8100\n",
      "Epoch 27/30\n",
      "80/80 [==============================] - 1s 18ms/step - loss: 0.2251 - accuracy: 0.9368 - val_loss: 0.4834 - val_accuracy: 0.8150\n",
      "Epoch 28/30\n",
      "80/80 [==============================] - 1s 18ms/step - loss: 0.2079 - accuracy: 0.9476 - val_loss: 0.4807 - val_accuracy: 0.8125\n",
      "Epoch 29/30\n",
      "80/80 [==============================] - 1s 18ms/step - loss: 0.1985 - accuracy: 0.9425 - val_loss: 0.4820 - val_accuracy: 0.8000\n",
      "Epoch 30/30\n",
      "80/80 [==============================] - 1s 18ms/step - loss: 0.1977 - accuracy: 0.9495 - val_loss: 0.4769 - val_accuracy: 0.8150\n"
     ]
    }
   ],
   "source": [
    "history = model.fit(train_features, train_labels,\n",
    "                    epochs=30,\n",
    "                    batch_size=20,\n",
    "                    validation_data=(validation_features, validation_labels))"
   ]
  },
  {
   "cell_type": "code",
   "execution_count": 18,
   "metadata": {},
   "outputs": [
    {
     "data": {
      "image/png": "[encoded data removed]",
      "text/plain": [
       "<Figure size 432x288 with 1 Axes>"
      ]
     },
     "metadata": {
      "needs_background": "light"
     },
     "output_type": "display_data"
    },
    {
     "data": {
      "image/png": "[encoded data removed]",
      "text/plain": [
       "<Figure size 432x288 with 1 Axes>"
      ]
     },
     "metadata": {
      "needs_background": "light"
     },
     "output_type": "display_data"
    }
   ],
   "source": [
    "import matplotlib.pyplot as plt\n",
    "\n",
    "acc = history.history['accuracy']\n",
    "val_acc = history.history['val_accuracy']\n",
    "loss = history.history['loss']\n",
    "val_loss = history.history['val_loss']\n",
    "\n",
    "epochs = range(len(acc))\n",
    "\n",
    "plt.plot(epochs, acc, 'bo', label='Training acc')\n",
    "plt.plot(epochs, val_acc, 'b', label='Validation acc')\n",
    "plt.title('Training and validation accuracy')\n",
    "plt.legend()\n",
    "\n",
    "plt.figure()\n",
    "\n",
    "plt.plot(epochs, loss, 'bo', label='Training loss')\n",
    "plt.plot(epochs, val_loss, 'b', label='Validation loss')\n",
    "plt.title('Training and validation loss')\n",
    "plt.legend()\n",
    "\n",
    "plt.show()"
   ]
  },
  {
   "cell_type": "code",
   "execution_count": null,
   "metadata": {},
   "outputs": [],
   "source": []
  }
 ],
 "metadata": {
  "kernelspec": {
   "display_name": "Python 3",
   "language": "python",
   "name": "python3"
  },
  "language_info": {
   "codemirror_mode": {
    "name": "ipython",
    "version": 3
   },
   "file_extension": ".py",
   "mimetype": "text/x-python",
   "name": "python",
   "nbconvert_exporter": "python",
   "pygments_lexer": "ipython3",
   "version": "3.8.3"
  }
 },
 "nbformat": 4,
 "nbformat_minor": 4
}
