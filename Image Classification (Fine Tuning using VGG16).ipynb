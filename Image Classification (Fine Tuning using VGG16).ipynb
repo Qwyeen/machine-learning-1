{
 "cells": [
  {
   "cell_type": "code",
   "execution_count": 1,
   "metadata": {},
   "outputs": [],
   "source": [
    "# Using Conv Nets to classify iamges\n",
    "# There are 5 categories: arctic fox, earless seal, penguin, polar bear, snow leopard\n",
    "# Each class has around 400 images in total\n",
    "# The data are split into training set (80%), validation set (10%), and test set (10%)\n",
    "# The model uses fine tuning with VGG16."
   ]
  },
  {
   "cell_type": "code",
   "execution_count": 2,
   "metadata": {},
   "outputs": [
    {
     "data": {
      "text/plain": [
       "'2.4.3'"
      ]
     },
     "execution_count": 2,
     "metadata": {},
     "output_type": "execute_result"
    }
   ],
   "source": [
    "import keras\n",
    "keras.__version__"
   ]
  },
  {
   "cell_type": "code",
   "execution_count": null,
   "metadata": {},
   "outputs": [],
   "source": []
  },
  {
   "cell_type": "code",
   "execution_count": 3,
   "metadata": {},
   "outputs": [],
   "source": [
    "from keras.applications import VGG16\n",
    "\n",
    "conv_base = VGG16(weights='imagenet',\n",
    "                  include_top=False,\n",
    "                  input_shape=(150, 150, 3))"
   ]
  },
  {
   "cell_type": "code",
   "execution_count": 4,
   "metadata": {},
   "outputs": [
    {
     "name": "stdout",
     "output_type": "stream",
     "text": [
      "Model: \"vgg16\"\n",
      "_________________________________________________________________\n",
      "Layer (type)                 Output Shape              Param #   \n",
      "=================================================================\n",
      "input_1 (InputLayer)         [(None, 150, 150, 3)]     0         \n",
      "_________________________________________________________________\n",
      "block1_conv1 (Conv2D)        (None, 150, 150, 64)      1792      \n",
      "_________________________________________________________________\n",
      "block1_conv2 (Conv2D)        (None, 150, 150, 64)      36928     \n",
      "_________________________________________________________________\n",
      "block1_pool (MaxPooling2D)   (None, 75, 75, 64)        0         \n",
      "_________________________________________________________________\n",
      "block2_conv1 (Conv2D)        (None, 75, 75, 128)       73856     \n",
      "_________________________________________________________________\n",
      "block2_conv2 (Conv2D)        (None, 75, 75, 128)       147584    \n",
      "_________________________________________________________________\n",
      "block2_pool (MaxPooling2D)   (None, 37, 37, 128)       0         \n",
      "_________________________________________________________________\n",
      "block3_conv1 (Conv2D)        (None, 37, 37, 256)       295168    \n",
      "_________________________________________________________________\n",
      "block3_conv2 (Conv2D)        (None, 37, 37, 256)       590080    \n",
      "_________________________________________________________________\n",
      "block3_conv3 (Conv2D)        (None, 37, 37, 256)       590080    \n",
      "_________________________________________________________________\n",
      "block3_pool (MaxPooling2D)   (None, 18, 18, 256)       0         \n",
      "_________________________________________________________________\n",
      "block4_conv1 (Conv2D)        (None, 18, 18, 512)       1180160   \n",
      "_________________________________________________________________\n",
      "block4_conv2 (Conv2D)        (None, 18, 18, 512)       2359808   \n",
      "_________________________________________________________________\n",
      "block4_conv3 (Conv2D)        (None, 18, 18, 512)       2359808   \n",
      "_________________________________________________________________\n",
      "block4_pool (MaxPooling2D)   (None, 9, 9, 512)         0         \n",
      "_________________________________________________________________\n",
      "block5_conv1 (Conv2D)        (None, 9, 9, 512)         2359808   \n",
      "_________________________________________________________________\n",
      "block5_conv2 (Conv2D)        (None, 9, 9, 512)         2359808   \n",
      "_________________________________________________________________\n",
      "block5_conv3 (Conv2D)        (None, 9, 9, 512)         2359808   \n",
      "_________________________________________________________________\n",
      "block5_pool (MaxPooling2D)   (None, 4, 4, 512)         0         \n",
      "=================================================================\n",
      "Total params: 14,714,688\n",
      "Trainable params: 14,714,688\n",
      "Non-trainable params: 0\n",
      "_________________________________________________________________\n"
     ]
    }
   ],
   "source": [
    "conv_base.summary()"
   ]
  },
  {
   "cell_type": "code",
   "execution_count": 5,
   "metadata": {},
   "outputs": [],
   "source": [
    "conv_base.trainable = True\n",
    "\n",
    "set_trainable = False\n",
    "for layer in conv_base.layers:\n",
    "    if layer.name == 'block5_conv1':\n",
    "        set_trainable = True\n",
    "    if set_trainable:\n",
    "        layer.trainable = True\n",
    "    else:\n",
    "        layer.trainable = False"
   ]
  },
  {
   "cell_type": "code",
   "execution_count": 6,
   "metadata": {},
   "outputs": [],
   "source": [
    "from keras import models\n",
    "from keras import layers\n",
    "from keras import optimizers"
   ]
  },
  {
   "cell_type": "code",
   "execution_count": 7,
   "metadata": {},
   "outputs": [],
   "source": [
    "model = models.Sequential()\n",
    "model.add(conv_base)\n",
    "model.add(layers.Flatten())\n",
    "model.add(layers.Dense(256, activation='relu'))\n",
    "model.add(layers.Dropout(0.5))\n",
    "model.add(layers.Dense(5, activation='softmax'))"
   ]
  },
  {
   "cell_type": "code",
   "execution_count": 8,
   "metadata": {},
   "outputs": [
    {
     "name": "stdout",
     "output_type": "stream",
     "text": [
      "Model: \"sequential\"\n",
      "_________________________________________________________________\n",
      "Layer (type)                 Output Shape              Param #   \n",
      "=================================================================\n",
      "vgg16 (Functional)           (None, 4, 4, 512)         14714688  \n",
      "_________________________________________________________________\n",
      "flatten (Flatten)            (None, 8192)              0         \n",
      "_________________________________________________________________\n",
      "dense (Dense)                (None, 256)               2097408   \n",
      "_________________________________________________________________\n",
      "dropout (Dropout)            (None, 256)               0         \n",
      "_________________________________________________________________\n",
      "dense_1 (Dense)              (None, 5)                 1285      \n",
      "=================================================================\n",
      "Total params: 16,813,381\n",
      "Trainable params: 9,178,117\n",
      "Non-trainable params: 7,635,264\n",
      "_________________________________________________________________\n"
     ]
    }
   ],
   "source": [
    "model.summary()"
   ]
  },
  {
   "cell_type": "code",
   "execution_count": 9,
   "metadata": {},
   "outputs": [],
   "source": [
    "model.compile(optimizer=optimizers.RMSprop(lr=5e-6),\n",
    "              loss='categorical_crossentropy',\n",
    "              metrics=['accuracy'])"
   ]
  },
  {
   "cell_type": "code",
   "execution_count": 10,
   "metadata": {},
   "outputs": [],
   "source": [
    "import os,shutil"
   ]
  },
  {
   "cell_type": "code",
   "execution_count": 11,
   "metadata": {},
   "outputs": [],
   "source": [
    "from keras.preprocessing.image import ImageDataGenerator\n",
    "# All images will be rescaled by 1./255\n",
    "train_datagen = ImageDataGenerator(\n",
    "    rescale=1./255,\n",
    "    rotation_range=40,\n",
    "    width_shift_range=0.2,\n",
    "    height_shift_range=0.2,\n",
    "    shear_range=0.2,\n",
    "    zoom_range=0.2,\n",
    "    horizontal_flip=True,\n",
    "    fill_mode='nearest')\n",
    "test_datagen = ImageDataGenerator(rescale=1./255)"
   ]
  },
  {
   "cell_type": "code",
   "execution_count": 12,
   "metadata": {},
   "outputs": [],
   "source": [
    "base_dir = 'E:/pictures splited'\n",
    "train_dir = os.path.join(base_dir,'train')\n",
    "validation_dir = os.path.join(base_dir,'validation')"
   ]
  },
  {
   "cell_type": "code",
   "execution_count": 13,
   "metadata": {},
   "outputs": [
    {
     "name": "stdout",
     "output_type": "stream",
     "text": [
      "Found 1583 images belonging to 5 classes.\n"
     ]
    }
   ],
   "source": [
    "train_generator = train_datagen.flow_from_directory(\n",
    "        # This is the target directory\n",
    "        train_dir,\n",
    "        # All images will be resized to 150x150\n",
    "        target_size=(150, 150),\n",
    "        batch_size=32,\n",
    "        class_mode = 'categorical')"
   ]
  },
  {
   "cell_type": "code",
   "execution_count": 14,
   "metadata": {},
   "outputs": [
    {
     "name": "stdout",
     "output_type": "stream",
     "text": [
      "Found 400 images belonging to 5 classes.\n"
     ]
    }
   ],
   "source": [
    "validation_generator = test_datagen.flow_from_directory(\n",
    "        validation_dir,\n",
    "        target_size=(150, 150),\n",
    "        batch_size=32,\n",
    "        class_mode='categorical')"
   ]
  },
  {
   "cell_type": "code",
   "execution_count": 15,
   "metadata": {},
   "outputs": [
    {
     "name": "stdout",
     "output_type": "stream",
     "text": [
      "WARNING:tensorflow:From <ipython-input-15-10cddcf1da4b>:1: Model.fit_generator (from tensorflow.python.keras.engine.training) is deprecated and will be removed in a future version.\n",
      "Instructions for updating:\n",
      "Please use Model.fit, which supports generators.\n",
      "Epoch 1/100\n",
      "37/50 [=====================>........] - ETA: 24s - loss: 1.8776 - accuracy: 0.2202"
     ]
    },
    {
     "name": "stderr",
     "output_type": "stream",
     "text": [
      "C:\\ProgramData\\Anaconda3\\lib\\site-packages\\PIL\\Image.py:960: UserWarning: Palette images with Transparency expressed in bytes should be converted to RGBA images\n",
      "  warnings.warn(\n"
     ]
    },
    {
     "name": "stdout",
     "output_type": "stream",
     "text": [
      "50/50 [==============================] - 98s 2s/step - loss: 1.8432 - accuracy: 0.2274 - val_loss: 1.5011 - val_accuracy: 0.4062\n",
      "Epoch 2/100\n",
      "50/50 [==============================] - 98s 2s/step - loss: 1.5381 - accuracy: 0.3525 - val_loss: 1.2722 - val_accuracy: 0.5000\n",
      "Epoch 3/100\n",
      "50/50 [==============================] - 99s 2s/step - loss: 1.3600 - accuracy: 0.4384 - val_loss: 0.9639 - val_accuracy: 0.6875\n",
      "Epoch 4/100\n",
      "50/50 [==============================] - 101s 2s/step - loss: 1.2145 - accuracy: 0.5085 - val_loss: 0.7541 - val_accuracy: 0.7500\n",
      "Epoch 5/100\n",
      "50/50 [==============================] - 99s 2s/step - loss: 1.0643 - accuracy: 0.5704 - val_loss: 0.8918 - val_accuracy: 0.6562\n",
      "Epoch 6/100\n",
      "50/50 [==============================] - 101s 2s/step - loss: 1.0302 - accuracy: 0.5736 - val_loss: 0.8204 - val_accuracy: 0.6875\n",
      "Epoch 7/100\n",
      "50/50 [==============================] - 100s 2s/step - loss: 0.9399 - accuracy: 0.6229 - val_loss: 0.7886 - val_accuracy: 0.7188\n",
      "Epoch 8/100\n",
      "50/50 [==============================] - 100s 2s/step - loss: 0.8469 - accuracy: 0.6684 - val_loss: 0.6742 - val_accuracy: 0.7500\n",
      "Epoch 9/100\n",
      "50/50 [==============================] - 101s 2s/step - loss: 0.8178 - accuracy: 0.6747 - val_loss: 0.5958 - val_accuracy: 0.7812\n",
      "Epoch 10/100\n",
      "50/50 [==============================] - 101s 2s/step - loss: 0.7761 - accuracy: 0.6987 - val_loss: 0.4535 - val_accuracy: 0.8438\n",
      "Epoch 11/100\n",
      "50/50 [==============================] - 101s 2s/step - loss: 0.7725 - accuracy: 0.6860 - val_loss: 0.7379 - val_accuracy: 0.7188\n",
      "Epoch 12/100\n",
      "50/50 [==============================] - 100s 2s/step - loss: 0.7548 - accuracy: 0.6974 - val_loss: 0.5826 - val_accuracy: 0.7812\n",
      "Epoch 13/100\n",
      "50/50 [==============================] - 101s 2s/step - loss: 0.7100 - accuracy: 0.7214 - val_loss: 0.7519 - val_accuracy: 0.6875\n",
      "Epoch 14/100\n",
      "50/50 [==============================] - 101s 2s/step - loss: 0.6807 - accuracy: 0.7284 - val_loss: 0.5501 - val_accuracy: 0.8125\n",
      "Epoch 15/100\n",
      "50/50 [==============================] - 100s 2s/step - loss: 0.6641 - accuracy: 0.7454 - val_loss: 0.6417 - val_accuracy: 0.7500\n",
      "Epoch 16/100\n",
      "50/50 [==============================] - 100s 2s/step - loss: 0.6434 - accuracy: 0.7442 - val_loss: 0.6691 - val_accuracy: 0.7188\n",
      "Epoch 17/100\n",
      "50/50 [==============================] - 100s 2s/step - loss: 0.6050 - accuracy: 0.7644 - val_loss: 0.4495 - val_accuracy: 0.8750\n",
      "Epoch 18/100\n",
      "50/50 [==============================] - 99s 2s/step - loss: 0.5921 - accuracy: 0.7840 - val_loss: 0.3621 - val_accuracy: 0.9375\n",
      "Epoch 19/100\n",
      "50/50 [==============================] - 101s 2s/step - loss: 0.5959 - accuracy: 0.7606 - val_loss: 0.4233 - val_accuracy: 0.7500\n",
      "Epoch 20/100\n",
      "50/50 [==============================] - 100s 2s/step - loss: 0.5559 - accuracy: 0.7852 - val_loss: 0.4559 - val_accuracy: 0.8750\n",
      "Epoch 21/100\n",
      "50/50 [==============================] - 101s 2s/step - loss: 0.5614 - accuracy: 0.7840 - val_loss: 0.4309 - val_accuracy: 0.8750\n",
      "Epoch 22/100\n",
      "50/50 [==============================] - 101s 2s/step - loss: 0.5317 - accuracy: 0.7985 - val_loss: 0.3865 - val_accuracy: 0.8438\n",
      "Epoch 23/100\n",
      "50/50 [==============================] - 99s 2s/step - loss: 0.5385 - accuracy: 0.7947 - val_loss: 0.2559 - val_accuracy: 0.9062\n",
      "Epoch 24/100\n",
      "50/50 [==============================] - 100s 2s/step - loss: 0.5129 - accuracy: 0.8124 - val_loss: 0.3194 - val_accuracy: 0.9062\n",
      "Epoch 25/100\n",
      "50/50 [==============================] - 101s 2s/step - loss: 0.5017 - accuracy: 0.8035 - val_loss: 0.1927 - val_accuracy: 0.9688\n",
      "Epoch 26/100\n",
      "50/50 [==============================] - 101s 2s/step - loss: 0.4877 - accuracy: 0.8168 - val_loss: 0.4073 - val_accuracy: 0.8750\n",
      "Epoch 27/100\n",
      "50/50 [==============================] - 95s 2s/step - loss: 0.4321 - accuracy: 0.8427 - val_loss: 0.3051 - val_accuracy: 0.9062\n",
      "Epoch 28/100\n",
      "50/50 [==============================] - 95s 2s/step - loss: 0.4873 - accuracy: 0.8187 - val_loss: 0.3952 - val_accuracy: 0.8438\n",
      "Epoch 29/100\n",
      "50/50 [==============================] - 95s 2s/step - loss: 0.4750 - accuracy: 0.8162 - val_loss: 0.5399 - val_accuracy: 0.8438\n",
      "Epoch 30/100\n",
      "50/50 [==============================] - 95s 2s/step - loss: 0.4167 - accuracy: 0.8484 - val_loss: 0.6321 - val_accuracy: 0.7500\n",
      "Epoch 31/100\n",
      "50/50 [==============================] - 95s 2s/step - loss: 0.4480 - accuracy: 0.8389 - val_loss: 0.4271 - val_accuracy: 0.8125\n",
      "Epoch 32/100\n",
      "50/50 [==============================] - 95s 2s/step - loss: 0.4453 - accuracy: 0.8294 - val_loss: 0.1888 - val_accuracy: 0.9375\n",
      "Epoch 33/100\n",
      "50/50 [==============================] - 96s 2s/step - loss: 0.4157 - accuracy: 0.8414 - val_loss: 0.3853 - val_accuracy: 0.7812\n",
      "Epoch 34/100\n",
      "50/50 [==============================] - 95s 2s/step - loss: 0.4006 - accuracy: 0.8541 - val_loss: 0.1744 - val_accuracy: 0.9688\n",
      "Epoch 35/100\n",
      "50/50 [==============================] - 94s 2s/step - loss: 0.3933 - accuracy: 0.8534 - val_loss: 0.3496 - val_accuracy: 0.8438\n",
      "Epoch 36/100\n",
      "50/50 [==============================] - 95s 2s/step - loss: 0.3893 - accuracy: 0.8648 - val_loss: 0.2316 - val_accuracy: 0.8750\n",
      "Epoch 37/100\n",
      "50/50 [==============================] - 95s 2s/step - loss: 0.3694 - accuracy: 0.8642 - val_loss: 0.6174 - val_accuracy: 0.7812\n",
      "Epoch 38/100\n",
      "50/50 [==============================] - 95s 2s/step - loss: 0.4011 - accuracy: 0.8490 - val_loss: 0.4152 - val_accuracy: 0.8125\n",
      "Epoch 39/100\n",
      "50/50 [==============================] - 95s 2s/step - loss: 0.3476 - accuracy: 0.8699 - val_loss: 0.2966 - val_accuracy: 0.8750\n",
      "Epoch 40/100\n",
      "50/50 [==============================] - 95s 2s/step - loss: 0.3605 - accuracy: 0.8680 - val_loss: 0.2593 - val_accuracy: 0.9375\n",
      "Epoch 41/100\n",
      "50/50 [==============================] - 94s 2s/step - loss: 0.3478 - accuracy: 0.8680 - val_loss: 0.1493 - val_accuracy: 0.9375\n",
      "Epoch 42/100\n",
      "50/50 [==============================] - 95s 2s/step - loss: 0.3581 - accuracy: 0.8629 - val_loss: 0.2486 - val_accuracy: 0.9062\n",
      "Epoch 43/100\n",
      "50/50 [==============================] - 95s 2s/step - loss: 0.3331 - accuracy: 0.8819 - val_loss: 0.3115 - val_accuracy: 0.8750\n",
      "Epoch 44/100\n",
      "50/50 [==============================] - 96s 2s/step - loss: 0.3258 - accuracy: 0.8762 - val_loss: 0.4921 - val_accuracy: 0.8750\n",
      "Epoch 45/100\n",
      "50/50 [==============================] - 54252s 1085s/step - loss: 0.3192 - accuracy: 0.8907 - val_loss: 0.3380 - val_accuracy: 0.8750\n",
      "Epoch 46/100\n",
      "50/50 [==============================] - 96s 2s/step - loss: 0.3224 - accuracy: 0.8831 - val_loss: 0.3482 - val_accuracy: 0.8125\n",
      "Epoch 47/100\n",
      "50/50 [==============================] - 97s 2s/step - loss: 0.3147 - accuracy: 0.8800 - val_loss: 0.2663 - val_accuracy: 0.8750\n",
      "Epoch 48/100\n",
      "50/50 [==============================] - 106s 2s/step - loss: 0.3008 - accuracy: 0.8882 - val_loss: 0.2478 - val_accuracy: 0.9375\n",
      "Epoch 49/100\n",
      "50/50 [==============================] - 101s 2s/step - loss: 0.3053 - accuracy: 0.8888 - val_loss: 0.1422 - val_accuracy: 1.0000\n",
      "Epoch 50/100\n",
      "50/50 [==============================] - 94s 2s/step - loss: 0.3085 - accuracy: 0.8812 - val_loss: 0.0581 - val_accuracy: 1.0000\n",
      "Epoch 51/100\n",
      "50/50 [==============================] - 95s 2s/step - loss: 0.2964 - accuracy: 0.8920 - val_loss: 0.3191 - val_accuracy: 0.9062\n",
      "Epoch 52/100\n",
      "50/50 [==============================] - 96s 2s/step - loss: 0.2964 - accuracy: 0.8882 - val_loss: 0.2871 - val_accuracy: 0.9375\n",
      "Epoch 53/100\n",
      "50/50 [==============================] - 95s 2s/step - loss: 0.2769 - accuracy: 0.8989 - val_loss: 0.2086 - val_accuracy: 0.9375\n",
      "Epoch 54/100\n",
      "50/50 [==============================] - 96s 2s/step - loss: 0.2755 - accuracy: 0.9021 - val_loss: 0.3710 - val_accuracy: 0.8750\n",
      "Epoch 55/100\n",
      "50/50 [==============================] - 96s 2s/step - loss: 0.2690 - accuracy: 0.8964 - val_loss: 0.4984 - val_accuracy: 0.8125\n",
      "Epoch 56/100\n",
      "50/50 [==============================] - 96s 2s/step - loss: 0.2737 - accuracy: 0.9002 - val_loss: 0.3015 - val_accuracy: 0.8125\n",
      "Epoch 57/100\n",
      "50/50 [==============================] - 96s 2s/step - loss: 0.2581 - accuracy: 0.9046 - val_loss: 0.3079 - val_accuracy: 0.9375\n",
      "Epoch 58/100\n",
      "50/50 [==============================] - 96s 2s/step - loss: 0.2464 - accuracy: 0.9040 - val_loss: 0.2781 - val_accuracy: 0.9062\n",
      "Epoch 59/100\n",
      "50/50 [==============================] - 95s 2s/step - loss: 0.2513 - accuracy: 0.9128 - val_loss: 0.1780 - val_accuracy: 0.9688\n",
      "Epoch 60/100\n",
      "50/50 [==============================] - 95s 2s/step - loss: 0.2229 - accuracy: 0.9280 - val_loss: 0.2404 - val_accuracy: 0.9688\n",
      "Epoch 61/100\n",
      "50/50 [==============================] - 119s 2s/step - loss: 0.2252 - accuracy: 0.9166 - val_loss: 0.2584 - val_accuracy: 0.8438\n",
      "Epoch 62/100\n",
      "50/50 [==============================] - 102s 2s/step - loss: 0.2473 - accuracy: 0.9147 - val_loss: 0.1693 - val_accuracy: 0.9062\n",
      "Epoch 63/100\n",
      "50/50 [==============================] - 98s 2s/step - loss: 0.2445 - accuracy: 0.9147 - val_loss: 0.1632 - val_accuracy: 0.9375\n",
      "Epoch 64/100\n",
      "50/50 [==============================] - 98s 2s/step - loss: 0.2040 - accuracy: 0.9280 - val_loss: 0.3564 - val_accuracy: 0.9062\n",
      "Epoch 65/100\n",
      "50/50 [==============================] - 98s 2s/step - loss: 0.2082 - accuracy: 0.9255 - val_loss: 0.4845 - val_accuracy: 0.8438\n",
      "Epoch 66/100\n",
      "50/50 [==============================] - 102s 2s/step - loss: 0.2164 - accuracy: 0.9217 - val_loss: 0.4149 - val_accuracy: 0.8750\n",
      "Epoch 67/100\n",
      "50/50 [==============================] - 118s 2s/step - loss: 0.2314 - accuracy: 0.9185 - val_loss: 0.3899 - val_accuracy: 0.8438\n",
      "Epoch 68/100\n",
      "50/50 [==============================] - 116s 2s/step - loss: 0.2266 - accuracy: 0.9078 - val_loss: 0.2803 - val_accuracy: 0.9062\n",
      "Epoch 69/100\n",
      "50/50 [==============================] - 116s 2s/step - loss: 0.2096 - accuracy: 0.9261 - val_loss: 0.1175 - val_accuracy: 0.9688\n",
      "Epoch 70/100\n",
      "50/50 [==============================] - 120s 2s/step - loss: 0.2290 - accuracy: 0.9128 - val_loss: 0.1733 - val_accuracy: 0.9062\n",
      "Epoch 71/100\n",
      "50/50 [==============================] - 106s 2s/step - loss: 0.2068 - accuracy: 0.9191 - val_loss: 0.2477 - val_accuracy: 0.9062\n",
      "Epoch 72/100\n",
      "50/50 [==============================] - 103s 2s/step - loss: 0.1921 - accuracy: 0.9311 - val_loss: 0.2779 - val_accuracy: 0.9062\n",
      "Epoch 73/100\n",
      "50/50 [==============================] - 100s 2s/step - loss: 0.2027 - accuracy: 0.9223 - val_loss: 0.2764 - val_accuracy: 0.9062\n",
      "Epoch 74/100\n",
      "50/50 [==============================] - 95s 2s/step - loss: 0.2132 - accuracy: 0.9210 - val_loss: 0.2430 - val_accuracy: 0.9375\n",
      "Epoch 75/100\n",
      "50/50 [==============================] - 95s 2s/step - loss: 0.1939 - accuracy: 0.9330 - val_loss: 0.4188 - val_accuracy: 0.8750\n",
      "Epoch 76/100\n",
      "50/50 [==============================] - 96s 2s/step - loss: 0.1951 - accuracy: 0.9248 - val_loss: 0.4217 - val_accuracy: 0.8438\n",
      "Epoch 77/100\n",
      "50/50 [==============================] - 97s 2s/step - loss: 0.1784 - accuracy: 0.9387 - val_loss: 0.5806 - val_accuracy: 0.8125\n",
      "Epoch 78/100\n",
      "50/50 [==============================] - 96s 2s/step - loss: 0.1804 - accuracy: 0.9394 - val_loss: 0.2459 - val_accuracy: 0.8438\n",
      "Epoch 79/100\n",
      "50/50 [==============================] - 95s 2s/step - loss: 0.1948 - accuracy: 0.9299 - val_loss: 0.4363 - val_accuracy: 0.8750\n",
      "Epoch 80/100\n",
      "50/50 [==============================] - 96s 2s/step - loss: 0.1976 - accuracy: 0.9280 - val_loss: 0.2391 - val_accuracy: 0.8750\n",
      "Epoch 81/100\n",
      "50/50 [==============================] - 96s 2s/step - loss: 0.1910 - accuracy: 0.9255 - val_loss: 0.5494 - val_accuracy: 0.8125\n",
      "Epoch 82/100\n",
      "50/50 [==============================] - 96s 2s/step - loss: 0.1775 - accuracy: 0.9324 - val_loss: 0.5501 - val_accuracy: 0.8125\n",
      "Epoch 83/100\n",
      "50/50 [==============================] - 96s 2s/step - loss: 0.1749 - accuracy: 0.9349 - val_loss: 0.4738 - val_accuracy: 0.8125\n",
      "Epoch 84/100\n",
      "50/50 [==============================] - 97s 2s/step - loss: 0.1815 - accuracy: 0.9337 - val_loss: 0.4888 - val_accuracy: 0.8125\n",
      "Epoch 85/100\n",
      "50/50 [==============================] - 100s 2s/step - loss: 0.1619 - accuracy: 0.9343 - val_loss: 0.3853 - val_accuracy: 0.8125\n",
      "Epoch 86/100\n",
      "50/50 [==============================] - 98s 2s/step - loss: 0.1643 - accuracy: 0.9406 - val_loss: 0.1667 - val_accuracy: 0.9375\n",
      "Epoch 87/100\n",
      "50/50 [==============================] - 99s 2s/step - loss: 0.1582 - accuracy: 0.9444 - val_loss: 0.5321 - val_accuracy: 0.7812\n",
      "Epoch 88/100\n",
      "50/50 [==============================] - 98s 2s/step - loss: 0.1558 - accuracy: 0.9488 - val_loss: 0.1564 - val_accuracy: 0.9375\n",
      "Epoch 89/100\n",
      "50/50 [==============================] - 96s 2s/step - loss: 0.1509 - accuracy: 0.9425 - val_loss: 0.2354 - val_accuracy: 0.9375\n",
      "Epoch 90/100\n",
      "50/50 [==============================] - 97s 2s/step - loss: 0.1483 - accuracy: 0.9356 - val_loss: 0.1011 - val_accuracy: 0.9375\n",
      "Epoch 91/100\n",
      "50/50 [==============================] - 101s 2s/step - loss: 0.1564 - accuracy: 0.9381 - val_loss: 0.2750 - val_accuracy: 0.8125\n",
      "Epoch 92/100\n",
      "50/50 [==============================] - 102s 2s/step - loss: 0.1599 - accuracy: 0.9476 - val_loss: 0.1796 - val_accuracy: 0.9375\n",
      "Epoch 93/100\n",
      "50/50 [==============================] - 97s 2s/step - loss: 0.1409 - accuracy: 0.9488 - val_loss: 0.2497 - val_accuracy: 0.8750\n",
      "Epoch 94/100\n",
      "50/50 [==============================] - 97s 2s/step - loss: 0.1418 - accuracy: 0.9469 - val_loss: 0.2090 - val_accuracy: 0.9375\n",
      "Epoch 95/100\n",
      "50/50 [==============================] - 97s 2s/step - loss: 0.1397 - accuracy: 0.9463 - val_loss: 0.1962 - val_accuracy: 0.8750\n",
      "Epoch 96/100\n",
      "50/50 [==============================] - 97s 2s/step - loss: 0.1325 - accuracy: 0.9539 - val_loss: 0.5673 - val_accuracy: 0.8750\n",
      "Epoch 97/100\n",
      "50/50 [==============================] - 98s 2s/step - loss: 0.1529 - accuracy: 0.9507 - val_loss: 0.1674 - val_accuracy: 0.9375\n",
      "Epoch 98/100\n",
      "50/50 [==============================] - 97s 2s/step - loss: 0.1275 - accuracy: 0.9539 - val_loss: 0.4391 - val_accuracy: 0.7812\n",
      "Epoch 99/100\n",
      "50/50 [==============================] - 98s 2s/step - loss: 0.1253 - accuracy: 0.9539 - val_loss: 0.1740 - val_accuracy: 0.9375\n",
      "Epoch 100/100\n",
      "50/50 [==============================] - 102s 2s/step - loss: 0.1372 - accuracy: 0.9545 - val_loss: 0.1962 - val_accuracy: 0.9062\n"
     ]
    }
   ],
   "source": [
    "history = model.fit_generator(\n",
    "      train_generator,\n",
    "      epochs=100,\n",
    "      validation_data=validation_generator,\n",
    "      validation_steps=1)"
   ]
  },
  {
   "cell_type": "code",
   "execution_count": 16,
   "metadata": {},
   "outputs": [
    {
     "data": {
      "image/png": "[encoded data removed]",
      "text/plain": [
       "<Figure size 432x288 with 1 Axes>"
      ]
     },
     "metadata": {
      "needs_background": "light"
     },
     "output_type": "display_data"
    },
    {
     "data": {
      "image/png": "[encoded data removed]",
      "text/plain": [
       "<Figure size 432x288 with 1 Axes>"
      ]
     },
     "metadata": {
      "needs_background": "light"
     },
     "output_type": "display_data"
    }
   ],
   "source": [
    "import matplotlib.pyplot as plt\n",
    "\n",
    "acc = history.history['accuracy']\n",
    "val_acc = history.history['val_accuracy']\n",
    "loss = history.history['loss']\n",
    "val_loss = history.history['val_loss']\n",
    "\n",
    "epochs = range(len(acc))\n",
    "\n",
    "plt.plot(epochs, acc, 'bo', label='Training acc')\n",
    "plt.plot(epochs, val_acc, 'b', label='Validation acc')\n",
    "plt.title('Training and validation accuracy')\n",
    "plt.legend()\n",
    "\n",
    "plt.figure()\n",
    "\n",
    "plt.plot(epochs, loss, 'bo', label='Training loss')\n",
    "plt.plot(epochs, val_loss, 'b', label='Validation loss')\n",
    "plt.title('Training and validation loss')\n",
    "plt.legend()\n",
    "\n",
    "plt.show()"
   ]
  },
  {
   "cell_type": "code",
   "execution_count": 17,
   "metadata": {},
   "outputs": [],
   "source": [
    "model.save('5_animals_20201223.h5')"
   ]
  },
  {
   "cell_type": "code",
   "execution_count": 18,
   "metadata": {},
   "outputs": [
    {
     "name": "stdout",
     "output_type": "stream",
     "text": [
      "Epoch 1/20\n",
      "13/50 [======>.......................] - ETA: 1:04 - loss: 0.1501 - accuracy: 0.9398"
     ]
    },
    {
     "name": "stderr",
     "output_type": "stream",
     "text": [
      "C:\\ProgramData\\Anaconda3\\lib\\site-packages\\PIL\\Image.py:960: UserWarning: Palette images with Transparency expressed in bytes should be converted to RGBA images\n",
      "  warnings.warn(\n"
     ]
    },
    {
     "name": "stdout",
     "output_type": "stream",
     "text": [
      "50/50 [==============================] - 94s 2s/step - loss: 0.1340 - accuracy: 0.9545 - val_loss: 0.4574 - val_accuracy: 0.8750\n",
      "Epoch 2/20\n",
      "50/50 [==============================] - 100s 2s/step - loss: 0.1216 - accuracy: 0.9602 - val_loss: 0.2686 - val_accuracy: 0.8750\n",
      "Epoch 3/20\n",
      "50/50 [==============================] - 101s 2s/step - loss: 0.1147 - accuracy: 0.9596 - val_loss: 0.4192 - val_accuracy: 0.8125\n",
      "Epoch 4/20\n",
      "50/50 [==============================] - 98s 2s/step - loss: 0.1338 - accuracy: 0.9501 - val_loss: 0.1776 - val_accuracy: 0.9062\n",
      "Epoch 5/20\n",
      "50/50 [==============================] - 97s 2s/step - loss: 0.1111 - accuracy: 0.9602 - val_loss: 0.3323 - val_accuracy: 0.9062\n",
      "Epoch 6/20\n",
      "50/50 [==============================] - 98s 2s/step - loss: 0.1119 - accuracy: 0.9596 - val_loss: 0.0071 - val_accuracy: 1.0000\n",
      "Epoch 7/20\n",
      "50/50 [==============================] - 99s 2s/step - loss: 0.1194 - accuracy: 0.9602 - val_loss: 0.4287 - val_accuracy: 0.8750\n",
      "Epoch 8/20\n",
      "50/50 [==============================] - 96s 2s/step - loss: 0.1089 - accuracy: 0.9608 - val_loss: 0.2171 - val_accuracy: 0.9375\n",
      "Epoch 9/20\n",
      "50/50 [==============================] - 97s 2s/step - loss: 0.1077 - accuracy: 0.9577 - val_loss: 0.2430 - val_accuracy: 0.9062\n",
      "Epoch 10/20\n",
      "50/50 [==============================] - 96s 2s/step - loss: 0.1061 - accuracy: 0.9589 - val_loss: 0.5253 - val_accuracy: 0.8750\n",
      "Epoch 11/20\n",
      "50/50 [==============================] - 96s 2s/step - loss: 0.1101 - accuracy: 0.9646 - val_loss: 0.3601 - val_accuracy: 0.8750\n",
      "Epoch 12/20\n",
      "50/50 [==============================] - 96s 2s/step - loss: 0.1131 - accuracy: 0.9602 - val_loss: 0.3257 - val_accuracy: 0.9062\n",
      "Epoch 13/20\n",
      "50/50 [==============================] - 96s 2s/step - loss: 0.1099 - accuracy: 0.9602 - val_loss: 0.1059 - val_accuracy: 0.9375\n",
      "Epoch 14/20\n",
      "50/50 [==============================] - 96s 2s/step - loss: 0.1009 - accuracy: 0.9697 - val_loss: 0.0682 - val_accuracy: 0.9688\n",
      "Epoch 15/20\n",
      "50/50 [==============================] - 95s 2s/step - loss: 0.1037 - accuracy: 0.9621 - val_loss: 0.3820 - val_accuracy: 0.9062\n",
      "Epoch 16/20\n",
      "50/50 [==============================] - 99s 2s/step - loss: 0.0832 - accuracy: 0.9697 - val_loss: 0.0207 - val_accuracy: 1.0000\n",
      "Epoch 17/20\n",
      "50/50 [==============================] - 96s 2s/step - loss: 0.1183 - accuracy: 0.9615 - val_loss: 0.5510 - val_accuracy: 0.8125\n",
      "Epoch 18/20\n",
      "50/50 [==============================] - 96s 2s/step - loss: 0.1028 - accuracy: 0.9653 - val_loss: 0.6852 - val_accuracy: 0.8125\n",
      "Epoch 19/20\n",
      "50/50 [==============================] - 96s 2s/step - loss: 0.0887 - accuracy: 0.9766 - val_loss: 0.4454 - val_accuracy: 0.9062\n",
      "Epoch 20/20\n",
      "50/50 [==============================] - 96s 2s/step - loss: 0.1034 - accuracy: 0.9615 - val_loss: 0.2856 - val_accuracy: 0.8750\n"
     ]
    }
   ],
   "source": [
    "history = model.fit_generator(\n",
    "      train_generator,\n",
    "      epochs=20,\n",
    "      validation_data=validation_generator,\n",
    "      validation_steps=1)"
   ]
  },
  {
   "cell_type": "code",
   "execution_count": null,
   "metadata": {},
   "outputs": [],
   "source": []
  }
 ],
 "metadata": {
  "kernelspec": {
   "display_name": "Python 3",
   "language": "python",
   "name": "python3"
  },
  "language_info": {
   "codemirror_mode": {
    "name": "ipython",
    "version": 3
   },
   "file_extension": ".py",
   "mimetype": "text/x-python",
   "name": "python",
   "nbconvert_exporter": "python",
   "pygments_lexer": "ipython3",
   "version": "3.8.3"
  }
 },
 "nbformat": 4,
 "nbformat_minor": 4
}
