{
 "cells": [
  {
   "cell_type": "code",
   "execution_count": 205,
   "metadata": {},
   "outputs": [],
   "source": [
    "# Splice Junction Classification\n",
    "import pandas as pd\n",
    "import numpy as np"
   ]
  },
  {
   "cell_type": "code",
   "execution_count": 206,
   "metadata": {},
   "outputs": [],
   "source": [
    "df = pd.read_csv(\"splice.data\",names = ['class','names','sequence'])"
   ]
  },
  {
   "cell_type": "code",
   "execution_count": 207,
   "metadata": {},
   "outputs": [
    {
     "name": "stdout",
     "output_type": "stream",
     "text": [
      "  class                   names  \\\n",
      "0    EI        ATRINS-DONOR-521   \n",
      "1    EI        ATRINS-DONOR-905   \n",
      "2    EI        BABAPOE-DONOR-30   \n",
      "3    EI       BABAPOE-DONOR-867   \n",
      "4    EI      BABAPOE-DONOR-2817   \n",
      "\n",
      "                                            sequence  \n",
      "0                 CCAGCTGCATCACAGGAGGCCAGCGAGCAGG...  \n",
      "1                 AGACCCGCCGGGAGGCGGAGGACCTGCAGGG...  \n",
      "2                 GAGGTGAAGGACGTCCTTCCCCAGGAGCCGG...  \n",
      "3                GGGCTGCGTTGCTGGTCACATTCCTGGCAGGT...  \n",
      "4               GCTCAGCCCCCAGGTCACCCAGGAACTGACGTG...  \n"
     ]
    }
   ],
   "source": [
    "print (df.head())"
   ]
  },
  {
   "cell_type": "code",
   "execution_count": 208,
   "metadata": {},
   "outputs": [
    {
     "name": "stdout",
     "output_type": "stream",
     "text": [
      "0    EI\n",
      "1    EI\n",
      "2    EI\n",
      "3    EI\n",
      "4    EI\n",
      "Name: class, dtype: object\n"
     ]
    }
   ],
   "source": [
    "y = df['class']\n",
    "print(y.head())"
   ]
  },
  {
   "cell_type": "code",
   "execution_count": 209,
   "metadata": {},
   "outputs": [],
   "source": [
    "# impliment one-hot encoding\n",
    "from sklearn.preprocessing import LabelEncoder\n",
    "from sklearn.preprocessing import OneHotEncoder"
   ]
  },
  {
   "cell_type": "code",
   "execution_count": 210,
   "metadata": {},
   "outputs": [
    {
     "name": "stdout",
     "output_type": "stream",
     "text": [
      "    class                     names  \\\n",
      "760    EI        ORAIGECA-DONOR-378   \n",
      "761    EI        ORAIGECA-DONOR-904   \n",
      "762    EI       ORAIGECA-DONOR-1314   \n",
      "763    EI         TARHBB-DONOR-1560   \n",
      "764    EI         TARHBB-DONOR-1909   \n",
      "765    EI          TARHBD-DONOR-468   \n",
      "766    EI          TARHBD-DONOR-817   \n",
      "767    IE       ATRINS-ACCEPTOR-701   \n",
      "768    IE      ATRINS-ACCEPTOR-1678   \n",
      "769    IE      BABAPOE-ACCEPTOR-801   \n",
      "\n",
      "                                              sequence  class_num  \n",
      "760               CAGACTGGGTCTACAACAAAACTTTCGGCGGTA...          0  \n",
      "761               CCTTTGAGGACAGCACCAAGAAGTGTGCAGGTA...          0  \n",
      "762              CCCTCGTGCGCTCCACGACCAAGACCAGCGGTGA...          0  \n",
      "763                GGAAGATGTTGGTGGTGAGGCCCTGGGCAGGT...          0  \n",
      "764                AAATTGCACGTGGATCCTGAGAATTTCAGGGT...          0  \n",
      "765                 GGAAGATGTTGGTGGTGAGGCCCTGGGCAGG...          0  \n",
      "766                 AAGCTGCATGTGGATCCTGAGAACTTCAGGG...          0  \n",
      "767              TTCAGCGGCCTCAGCCTGCCTGTCTCCCAGGTCT...          1  \n",
      "768             GGACCTGCTCTGCGTGGCTCGCCCTGGCAGTGGGG...          1  \n",
      "769             GCGGTTGATTGACAGTTTCTCCTTCCCCAGACTGG...          1  \n"
     ]
    }
   ],
   "source": [
    "# creat instance of labelencoder\n",
    "labelencoder = LabelEncoder()\n",
    "# Assign numerical values and store in another column\n",
    "df['class_num'] = labelencoder.fit_transform(df['class'])\n",
    "print(df[760:770])"
   ]
  },
  {
   "cell_type": "code",
   "execution_count": 211,
   "metadata": {},
   "outputs": [
    {
     "data": {
      "text/html": [
       "<div>\n",
       "<style scoped>\n",
       "    .dataframe tbody tr th:only-of-type {\n",
       "        vertical-align: middle;\n",
       "    }\n",
       "\n",
       "    .dataframe tbody tr th {\n",
       "        vertical-align: top;\n",
       "    }\n",
       "\n",
       "    .dataframe thead th {\n",
       "        text-align: right;\n",
       "    }\n",
       "</style>\n",
       "<table border=\"1\" class=\"dataframe\">\n",
       "  <thead>\n",
       "    <tr style=\"text-align: right;\">\n",
       "      <th></th>\n",
       "      <th>A</th>\n",
       "      <th>B</th>\n",
       "      <th>C</th>\n",
       "    </tr>\n",
       "  </thead>\n",
       "  <tbody>\n",
       "    <tr>\n",
       "      <th>0</th>\n",
       "      <td>1.0</td>\n",
       "      <td>0.0</td>\n",
       "      <td>0.0</td>\n",
       "    </tr>\n",
       "    <tr>\n",
       "      <th>1</th>\n",
       "      <td>1.0</td>\n",
       "      <td>0.0</td>\n",
       "      <td>0.0</td>\n",
       "    </tr>\n",
       "    <tr>\n",
       "      <th>2</th>\n",
       "      <td>1.0</td>\n",
       "      <td>0.0</td>\n",
       "      <td>0.0</td>\n",
       "    </tr>\n",
       "    <tr>\n",
       "      <th>3</th>\n",
       "      <td>1.0</td>\n",
       "      <td>0.0</td>\n",
       "      <td>0.0</td>\n",
       "    </tr>\n",
       "    <tr>\n",
       "      <th>4</th>\n",
       "      <td>1.0</td>\n",
       "      <td>0.0</td>\n",
       "      <td>0.0</td>\n",
       "    </tr>\n",
       "    <tr>\n",
       "      <th>...</th>\n",
       "      <td>...</td>\n",
       "      <td>...</td>\n",
       "      <td>...</td>\n",
       "    </tr>\n",
       "    <tr>\n",
       "      <th>3185</th>\n",
       "      <td>0.0</td>\n",
       "      <td>0.0</td>\n",
       "      <td>1.0</td>\n",
       "    </tr>\n",
       "    <tr>\n",
       "      <th>3186</th>\n",
       "      <td>0.0</td>\n",
       "      <td>0.0</td>\n",
       "      <td>1.0</td>\n",
       "    </tr>\n",
       "    <tr>\n",
       "      <th>3187</th>\n",
       "      <td>0.0</td>\n",
       "      <td>0.0</td>\n",
       "      <td>1.0</td>\n",
       "    </tr>\n",
       "    <tr>\n",
       "      <th>3188</th>\n",
       "      <td>0.0</td>\n",
       "      <td>0.0</td>\n",
       "      <td>1.0</td>\n",
       "    </tr>\n",
       "    <tr>\n",
       "      <th>3189</th>\n",
       "      <td>0.0</td>\n",
       "      <td>0.0</td>\n",
       "      <td>1.0</td>\n",
       "    </tr>\n",
       "  </tbody>\n",
       "</table>\n",
       "<p>3190 rows × 3 columns</p>\n",
       "</div>"
      ],
      "text/plain": [
       "        A    B    C\n",
       "0     1.0  0.0  0.0\n",
       "1     1.0  0.0  0.0\n",
       "2     1.0  0.0  0.0\n",
       "3     1.0  0.0  0.0\n",
       "4     1.0  0.0  0.0\n",
       "...   ...  ...  ...\n",
       "3185  0.0  0.0  1.0\n",
       "3186  0.0  0.0  1.0\n",
       "3187  0.0  0.0  1.0\n",
       "3188  0.0  0.0  1.0\n",
       "3189  0.0  0.0  1.0\n",
       "\n",
       "[3190 rows x 3 columns]"
      ]
     },
     "execution_count": 211,
     "metadata": {},
     "output_type": "execute_result"
    }
   ],
   "source": [
    "# creating instance of one-hot-encoder\n",
    "enc = OneHotEncoder(handle_unknown='ignore')\n",
    "# pass 'class_num' column\n",
    "enc_df = pd.DataFrame(enc.fit_transform(df[['class_num']]).toarray())\n",
    "# merge with main df\n",
    "enc_df.columns = ['A','B','C']\n",
    "enc_df"
   ]
  },
  {
   "cell_type": "code",
   "execution_count": 212,
   "metadata": {},
   "outputs": [
    {
     "name": "stdout",
     "output_type": "stream",
     "text": [
      "  class                   names  \\\n",
      "0    EI        ATRINS-DONOR-521   \n",
      "1    EI        ATRINS-DONOR-905   \n",
      "2    EI        BABAPOE-DONOR-30   \n",
      "3    EI       BABAPOE-DONOR-867   \n",
      "4    EI      BABAPOE-DONOR-2817   \n",
      "\n",
      "                                            sequence  class_num  hot_1  hot_2  \\\n",
      "0                 CCAGCTGCATCACAGGAGGCCAGCGAGCAGG...          0    1.0    0.0   \n",
      "1                 AGACCCGCCGGGAGGCGGAGGACCTGCAGGG...          0    1.0    0.0   \n",
      "2                 GAGGTGAAGGACGTCCTTCCCCAGGAGCCGG...          0    1.0    0.0   \n",
      "3                GGGCTGCGTTGCTGGTCACATTCCTGGCAGGT...          0    1.0    0.0   \n",
      "4               GCTCAGCCCCCAGGTCACCCAGGAACTGACGTG...          0    1.0    0.0   \n",
      "\n",
      "   hot_3                                         sequence_1  \n",
      "0    0.0  CCAGCTGCATCACAGGAGGCCAGCGAGCAGGTCTGTTCCAAGGGCC...  \n",
      "1    0.0  AGACCCGCCGGGAGGCGGAGGACCTGCAGGGTGAGCCCCACCGCCC...  \n",
      "2    0.0  GAGGTGAAGGACGTCCTTCCCCAGGAGCCGGTGAGAAGCGCAGTCG...  \n",
      "3    0.0  GGGCTGCGTTGCTGGTCACATTCCTGGCAGGTATGGGGCGGGGCTT...  \n",
      "4    0.0  GCTCAGCCCCCAGGTCACCCAGGAACTGACGTGAGTGTCCCCATCC...  \n"
     ]
    }
   ],
   "source": [
    "# add one hot encoder to df\n",
    "df[['hot_1','hot_2','hot_3']] = enc_df[['A','B','C']]\n",
    "\n",
    "# eliminate the space in sequence\n",
    "def delete_space(x):\n",
    "    if type(x) is str:\n",
    "        return x.strip()\n",
    "    else:\n",
    "        return x\n",
    "    \n",
    "df['sequence_1'] = df['sequence'].map(delete_space)\n",
    "print(df.head())"
   ]
  },
  {
   "cell_type": "code",
   "execution_count": 213,
   "metadata": {},
   "outputs": [
    {
     "name": "stdout",
     "output_type": "stream",
     "text": [
      "[0, 1, 0, 0, 0, 1, 0, 0, 1, 0, 0, 0, 1, 0, 0, 0, 1, 0, 0, 0, 0, 0, 1, 0, 1, 0, 0, 0, 0, 0, 0, 1, 0, 0, 0, 1, 0, 1, 0, 0, 1, 0, 0, 0, 0, 0, 1, 0, 1, 0, 0, 0, 1, 0, 0, 0, 0, 0, 0, 1, 1, 0, 0, 0, 0, 0, 0, 1, 1, 0, 0, 0, 0, 0, 0, 1, 0, 1, 0, 0, 0, 0, 1, 0, 1, 0, 0, 0, 1, 0, 0, 0, 1, 0, 0, 0, 0, 1, 0, 0, 0, 1, 0, 0, 0, 1, 0, 0, 0, 1, 0, 0, 0, 1, 0, 0, 0, 1, 0, 0, 1, 0, 0, 0, 1, 0, 0, 0, 0, 0, 0, 1, 0, 1, 0, 0, 0, 1, 0, 0, 0, 0, 0, 1, 1, 0, 0, 0, 0, 1, 0, 0, 1, 0, 0, 0, 1, 0, 0, 0, 1, 0, 0, 0, 0, 0, 0, 1, 0, 0, 1, 0, 0, 0, 1, 0, 0, 0, 1, 0, 1, 0, 0, 0, 0, 1, 0, 0, 0, 0, 1, 0, 1, 0, 0, 0, 1, 0, 0, 0, 1, 0, 0, 0, 0, 1, 0, 0, 0, 1, 0, 0, 0, 0, 1, 0, 0, 1, 0, 0, 0, 1, 0, 0, 0, 0, 1, 0, 1, 0, 0, 0, 1, 0, 0, 0, 0, 0, 1, 0]\n"
     ]
    }
   ],
   "source": [
    "# transform raw sequence data into data that can be recognized by machine learning (one-hot encoder)\n",
    "x_raw = df['sequence_1']\n",
    "X = []\n",
    "for sequence in x_raw:\n",
    "    row = []\n",
    "    for base in sequence:\n",
    "        e = None\n",
    "        if base == 'A':\n",
    "            e = [0,0,0,1]\n",
    "        elif base == 'T':\n",
    "            e = [0,0,1,0]\n",
    "        elif base == 'C':\n",
    "            e = [0,1,0,0]\n",
    "        elif base == 'G':\n",
    "            e = [1,0,0,0]\n",
    "        else:\n",
    "            e = [0,0,0,0]\n",
    "        row += e\n",
    "    X.append(row)\n",
    "print(X[1900])"
   ]
  },
  {
   "cell_type": "code",
   "execution_count": 214,
   "metadata": {},
   "outputs": [],
   "source": [
    "# y = df[['hot_1','hot_2','hot_3']]\n",
    "y = df['class']"
   ]
  },
  {
   "cell_type": "code",
   "execution_count": 215,
   "metadata": {},
   "outputs": [],
   "source": [
    "# impliment train-test-split\n",
    "from sklearn.model_selection import train_test_split\n",
    "X_train, X_test, y_train, y_test = train_test_split(X, y, test_size=0.15, random_state=42)"
   ]
  },
  {
   "cell_type": "code",
   "execution_count": 216,
   "metadata": {},
   "outputs": [],
   "source": [
    "# impliment cross validation\n",
    "from sklearn.model_selection import cross_val_score"
   ]
  },
  {
   "cell_type": "code",
   "execution_count": 217,
   "metadata": {},
   "outputs": [
    {
     "name": "stdout",
     "output_type": "stream",
     "text": [
      "[0.93001842 0.92250923 0.94095941 0.90590406 0.91143911]\n",
      "lamda = 0.01\n",
      "Accuracy by l2 penalty: 0.922 (+/- 0.025)\n",
      "   \n",
      "[0.93554328 0.92250923 0.94095941 0.90590406 0.91143911]\n",
      "lamda = 0.02\n",
      "Accuracy by l2 penalty: 0.923 (+/- 0.027)\n",
      "   \n",
      "[0.9373849  0.92435424 0.93911439 0.9095941  0.91328413]\n",
      "lamda = 0.04\n",
      "Accuracy by l2 penalty: 0.925 (+/- 0.024)\n",
      "   \n",
      "[0.93922652 0.92435424 0.94280443 0.9095941  0.91328413]\n",
      "lamda = 0.08\n",
      "Accuracy by l2 penalty: 0.926 (+/- 0.027)\n",
      "   \n",
      "[0.94290976 0.92619926 0.94280443 0.9095941  0.92066421]\n",
      "lamda = 0.16\n",
      "Accuracy by l2 penalty: 0.928 (+/- 0.026)\n",
      "   \n",
      "[0.946593   0.9298893  0.94649446 0.91697417 0.92435424]\n",
      "lamda = 0.32\n",
      "Accuracy by l2 penalty: 0.933 (+/- 0.024)\n",
      "   \n",
      "[0.946593   0.93911439 0.9501845  0.91881919 0.92804428]\n",
      "lamda = 0.64\n",
      "Accuracy by l2 penalty: 0.937 (+/- 0.023)\n",
      "   \n",
      "[0.95395948 0.94649446 0.95387454 0.92250923 0.93173432]\n",
      "lamda = 1.28\n",
      "Accuracy by l2 penalty: 0.942 (+/- 0.025)\n",
      "   \n",
      "[0.96132597 0.95387454 0.95756458 0.92066421 0.93173432]\n",
      "lamda = 2.56\n",
      "Accuracy by l2 penalty: 0.945 (+/- 0.032)\n",
      "   \n",
      "[0.96500921 0.95571956 0.95940959 0.92619926 0.94280443]\n",
      "lamda = 5.12\n",
      "Accuracy by l2 penalty: 0.950 (+/- 0.028)\n",
      "   \n",
      "[0.96500921 0.95940959 0.95756458 0.93542435 0.94464945]\n",
      "lamda = 10.24\n",
      "Accuracy by l2 penalty: 0.952 (+/- 0.022)\n",
      "   \n",
      "[0.96500921 0.96863469 0.95940959 0.94280443 0.94833948]\n",
      "lamda = 20.48\n",
      "Accuracy by l2 penalty: 0.957 (+/- 0.020)\n",
      "   \n",
      "[0.96500921 0.97232472 0.95940959 0.95202952 0.94649446]\n",
      "lamda = 40.96\n",
      "Accuracy by l2 penalty: 0.959 (+/- 0.018)\n",
      "   \n",
      "[0.95948435 0.97232472 0.96125461 0.9501845  0.9501845 ]\n",
      "lamda = 81.92\n",
      "Accuracy by l2 penalty: 0.959 (+/- 0.016)\n",
      "   \n",
      "[0.96132597 0.95940959 0.96494465 0.95571956 0.95387454]\n",
      "lamda = 163.84\n",
      "Accuracy by l2 penalty: 0.959 (+/- 0.008)\n",
      "   \n",
      "[0.9558011  0.94095941 0.96494465 0.94095941 0.94095941]\n",
      "lamda = 327.68\n",
      "Accuracy by l2 penalty: 0.949 (+/- 0.020)\n",
      "   \n",
      "[0.9373849  0.90405904 0.93357934 0.90774908 0.89852399]\n",
      "lamda = 655.36\n",
      "Accuracy by l2 penalty: 0.916 (+/- 0.032)\n",
      "   \n",
      "[0.77532228 0.76752768 0.81549815 0.77859779 0.75645756]\n",
      "lamda = 1310.72\n",
      "Accuracy by l2 penalty: 0.779 (+/- 0.040)\n",
      "   \n",
      "[0.5267035  0.52767528 0.5295203  0.5295203  0.53321033]\n",
      "lamda = 2621.44\n",
      "Accuracy by l2 penalty: 0.529 (+/- 0.004)\n",
      "   \n",
      "[0.52302026 0.52398524 0.52583026 0.52398524 0.52398524]\n",
      "lamda = 5242.88\n",
      "Accuracy by l2 penalty: 0.524 (+/- 0.002)\n",
      "   \n",
      "[0.52302026 0.52398524 0.52583026 0.52398524 0.52398524]\n",
      "lamda = 10485.76\n",
      "Accuracy by l2 penalty: 0.524 (+/- 0.002)\n",
      "   \n"
     ]
    }
   ],
   "source": [
    "from sklearn import linear_model\n",
    "# l2 penalty, c - inverse of regularization strength\n",
    "lamda = np.logspace(0,20,21,endpoint=True,base = 2)/100\n",
    "c_set = 1/lamda\n",
    "for c in c_set:\n",
    "    \n",
    "    logistic = linear_model.LogisticRegression(penalty='l2',dual=False,C=c,fit_intercept=True, tol=0.0001,max_iter=1000)\n",
    "    scores = cross_val_score(logistic, X_train, y_train, cv=5)\n",
    "    print(scores)\n",
    "    print('lamda =', 1/c)\n",
    "    print('Accuracy by l2 penalty: %0.3f (+/- %0.3f)' % (scores.mean(), scores.std() * 2))\n",
    "    print(\"   \")"
   ]
  },
  {
   "cell_type": "code",
   "execution_count": null,
   "metadata": {},
   "outputs": [],
   "source": []
  },
  {
   "cell_type": "code",
   "execution_count": 218,
   "metadata": {},
   "outputs": [
    {
     "name": "stdout",
     "output_type": "stream",
     "text": [
      "Compare between lamda = 20.48,40.96,81.92,163.84 \n"
     ]
    }
   ],
   "source": [
    "print('Compare between lamda = 20.48,40.96,81.92,163.84 ')"
   ]
  },
  {
   "cell_type": "code",
   "execution_count": 219,
   "metadata": {},
   "outputs": [
    {
     "name": "stdout",
     "output_type": "stream",
     "text": [
      "lamda =  20.48 , accuracy = 0.954070981210856\n",
      "lamda =  40.96 , accuracy = 0.9519832985386222\n",
      "lamda =  81.92 , accuracy = 0.9519832985386222\n",
      "lamda =  163.84 , accuracy = 0.9561586638830898\n"
     ]
    }
   ],
   "source": [
    "lamda_set = [20.48,40.96,81.92,163.84 ]\n",
    "\n",
    "for lamda in lamda_set:\n",
    "    logistic = linear_model.LogisticRegression(penalty='l2',dual=False,C=1/lamda,fit_intercept=True, tol=0.0001,max_iter=1000)\n",
    "    logistic.fit(X_train, y_train)\n",
    "    y_pred = logistic.predict(X_test)\n",
    "    accurate = np.sum(y_pred == y_test)\n",
    "    accuracy = accurate/len(y_test)\n",
    "    print('lamda = ',lamda, ', accuracy =', accuracy)"
   ]
  },
  {
   "cell_type": "code",
   "execution_count": 220,
   "metadata": {},
   "outputs": [
    {
     "name": "stdout",
     "output_type": "stream",
     "text": [
      "Best model when lamda = 163.84. Accuracy by l2 penalty: 0.96\n"
     ]
    }
   ],
   "source": [
    "print('Best model when lamda = 163.84. Accuracy by l2 penalty: 0.96' )"
   ]
  },
  {
   "cell_type": "code",
   "execution_count": 221,
   "metadata": {},
   "outputs": [
    {
     "name": "stdout",
     "output_type": "stream",
     "text": [
      "[0.94290976 0.93357934 0.94095941 0.92250923 0.92804428]\n",
      "lamda = 0.01\n",
      "Accuracy by l1 penalty: 0.934 +/- 0.015\n",
      "   \n",
      "[0.93922652 0.93911439 0.94649446 0.92435424 0.92804428]\n",
      "lamda = 0.02\n",
      "Accuracy by l1 penalty: 0.935 +/- 0.016\n",
      "   \n",
      "[0.94106814 0.93911439 0.9501845  0.92619926 0.92804428]\n",
      "lamda = 0.04\n",
      "Accuracy by l1 penalty: 0.937 +/- 0.018\n",
      "   \n",
      "[0.94106814 0.94280443 0.95202952 0.93173432 0.93173432]\n",
      "lamda = 0.08\n",
      "Accuracy by l1 penalty: 0.940 +/- 0.015\n",
      "   \n",
      "[0.94843462 0.94464945 0.9501845  0.92619926 0.93911439]\n",
      "lamda = 0.16\n",
      "Accuracy by l1 penalty: 0.942 +/- 0.017\n",
      "   \n",
      "[0.95027624 0.95202952 0.95202952 0.92804428 0.94833948]\n",
      "lamda = 0.32\n",
      "Accuracy by l1 penalty: 0.946 +/- 0.018\n",
      "   \n",
      "[0.96132597 0.95756458 0.95571956 0.92804428 0.94649446]\n",
      "lamda = 0.64\n",
      "Accuracy by l1 penalty: 0.950 +/- 0.024\n",
      "   \n",
      "[0.96500921 0.96494465 0.95940959 0.93173432 0.95202952]\n",
      "lamda = 1.28\n",
      "Accuracy by l1 penalty: 0.955 +/- 0.025\n",
      "   \n",
      "[0.96500921 0.97601476 0.95940959 0.94649446 0.95387454]\n",
      "lamda = 2.56\n",
      "Accuracy by l1 penalty: 0.960 +/- 0.020\n",
      "   \n",
      "[0.96685083 0.97785978 0.95571956 0.94095941 0.95571956]\n",
      "lamda = 5.12\n",
      "Accuracy by l1 penalty: 0.959 +/- 0.025\n",
      "   \n",
      "[0.96316759 0.9797048  0.95756458 0.94464945 0.9501845 ]\n",
      "lamda = 10.24\n",
      "Accuracy by l1 penalty: 0.959 +/- 0.024\n",
      "   \n",
      "[0.95764273 0.96863469 0.9501845  0.93542435 0.94095941]\n",
      "lamda = 20.48\n",
      "Accuracy by l1 penalty: 0.951 +/- 0.024\n",
      "   \n",
      "[0.94290976 0.93911439 0.93542435 0.91881919 0.92804428]\n",
      "lamda = 40.96\n",
      "Accuracy by l1 penalty: 0.933 +/- 0.017\n",
      "   \n",
      "[0.89871087 0.89667897 0.89483395 0.87822878 0.89298893]\n",
      "lamda = 81.92\n",
      "Accuracy by l1 penalty: 0.892 +/- 0.015\n",
      "   \n",
      "[0.52302026 0.52398524 0.52583026 0.61070111 0.52398524]\n",
      "lamda = 163.84\n",
      "Accuracy by l1 penalty: 0.542 +/- 0.069\n",
      "   \n",
      "[0.52302026 0.52398524 0.52583026 0.52398524 0.52398524]\n",
      "lamda = 327.68\n",
      "Accuracy by l1 penalty: 0.524 +/- 0.002\n",
      "   \n",
      "[0.23388582 0.23247232 0.23247232 0.23431734 0.23431734]\n",
      "lamda = 655.36\n",
      "Accuracy by l1 penalty: 0.233 +/- 0.002\n",
      "   \n",
      "[0.23388582 0.23247232 0.23247232 0.23431734 0.23431734]\n",
      "lamda = 1310.72\n",
      "Accuracy by l1 penalty: 0.233 +/- 0.002\n",
      "   \n",
      "[0.23388582 0.23247232 0.23247232 0.23431734 0.23431734]\n",
      "lamda = 2621.44\n",
      "Accuracy by l1 penalty: 0.233 +/- 0.002\n",
      "   \n",
      "[0.23388582 0.23247232 0.23247232 0.23431734 0.23431734]\n",
      "lamda = 5242.88\n",
      "Accuracy by l1 penalty: 0.233 +/- 0.002\n",
      "   \n",
      "[0.23388582 0.23247232 0.23247232 0.23431734 0.23431734]\n",
      "lamda = 10485.76\n",
      "Accuracy by l1 penalty: 0.233 +/- 0.002\n",
      "   \n"
     ]
    }
   ],
   "source": [
    "# l1 penalty\n",
    "#logistic = linear_model.LogisticRegression(penalty='l1',dual=False,C=1,fit_intercept=True, solver='liblinear',tol=0.0001,max_iter=1000)\n",
    "#scores = cross_val_score(logistic, X_train, y_train, cv=5)\n",
    "#print(scores)\n",
    "lamda = np.logspace(0,20,21,endpoint=True,base = 2)/100\n",
    "c_set = 1/lamda\n",
    "for c in c_set:\n",
    "    \n",
    "    logistic = linear_model.LogisticRegression(penalty='l1',dual=False,C=c,fit_intercept=True, solver='liblinear',tol=0.0001,max_iter=1000)\n",
    "    scores = cross_val_score(logistic, X_train, y_train, cv=5)\n",
    "    print(scores)\n",
    "    print('lamda =', 1/c)\n",
    "    print('Accuracy by l1 penalty:',format(scores.mean(),'.3f'),'+/-',format(scores.std() * 2,'.3f'))\n",
    "    print(\"   \")"
   ]
  },
  {
   "cell_type": "code",
   "execution_count": 222,
   "metadata": {},
   "outputs": [
    {
     "name": "stdout",
     "output_type": "stream",
     "text": [
      "Compare between lamda = 1.28, 2.56, 5.12, 10.24\n"
     ]
    }
   ],
   "source": [
    "print('Compare between lamda = 1.28, 2.56, 5.12, 10.24' )"
   ]
  },
  {
   "cell_type": "code",
   "execution_count": 223,
   "metadata": {},
   "outputs": [
    {
     "name": "stdout",
     "output_type": "stream",
     "text": [
      "lamda =  1.28 , accuracy = 0.9603340292275574\n",
      "lamda =  2.56 , accuracy = 0.9624217118997912\n",
      "lamda =  5.12 , accuracy = 0.9665970772442589\n",
      "lamda =  10.24 , accuracy = 0.9624217118997912\n"
     ]
    }
   ],
   "source": [
    "lamda_set = [1.28,2.56,5.12,10.24]\n",
    "\n",
    "for lamda in lamda_set:\n",
    "    logistic = linear_model.LogisticRegression(penalty='l1',dual=False,C=1/lamda,fit_intercept=True, solver='liblinear',tol=0.0001,max_iter=1000)\n",
    "    logistic.fit(X_train, y_train)\n",
    "    y_pred = logistic.predict(X_test)\n",
    "    accurate = np.sum(y_pred == y_test)\n",
    "    accuracy = accurate/len(y_test)\n",
    "    print('lamda = ',lamda, ', accuracy =', accuracy)"
   ]
  },
  {
   "cell_type": "code",
   "execution_count": 224,
   "metadata": {},
   "outputs": [
    {
     "name": "stdout",
     "output_type": "stream",
     "text": [
      "Best model when lamda = 5.12. Accuracy by l1 penalty: 0.97\n"
     ]
    }
   ],
   "source": [
    "print('Best model when lamda = 5.12. Accuracy by l1 penalty: 0.97' )"
   ]
  },
  {
   "cell_type": "code",
   "execution_count": 226,
   "metadata": {},
   "outputs": [
    {
     "name": "stdout",
     "output_type": "stream",
     "text": [
      "Best logistic regression with regularization over all is achieved when using l1 penalty, lamda = 5.12. Accuacy on test data is 0.97.\n"
     ]
    }
   ],
   "source": [
    "print('Best logistic regression with regularization over all is achieved when using l1 penalty, lamda = 5.12. Accuacy on test data is 0.97.')"
   ]
  },
  {
   "cell_type": "code",
   "execution_count": 3,
   "metadata": {},
   "outputs": [
    {
     "name": "stdout",
     "output_type": "stream",
     "text": [
      "[1.000000e-02 2.000000e-02 4.000000e-02 8.000000e-02 1.600000e-01\n",
      " 3.200000e-01 6.400000e-01 1.280000e+00 2.560000e+00 5.120000e+00\n",
      " 1.024000e+01 2.048000e+01 4.096000e+01 8.192000e+01 1.638400e+02\n",
      " 3.276800e+02 6.553600e+02 1.310720e+03 2.621440e+03 5.242880e+03\n",
      " 1.048576e+04]\n"
     ]
    }
   ],
   "source": [
    "\n",
    "# Splice Junction Classification\n",
    "import pandas as pd\n",
    "import numpy as np\n",
    "lamda = np.logspace(0,20,21,endpoint=True,base = 2)/100\n",
    "print(lamda)"
   ]
  },
  {
   "cell_type": "code",
   "execution_count": null,
   "metadata": {},
   "outputs": [],
   "source": []
  }
 ],
 "metadata": {
  "kernelspec": {
   "display_name": "Python 3",
   "language": "python",
   "name": "python3"
  },
  "language_info": {
   "codemirror_mode": {
    "name": "ipython",
    "version": 3
   },
   "file_extension": ".py",
   "mimetype": "text/x-python",
   "name": "python",
   "nbconvert_exporter": "python",
   "pygments_lexer": "ipython3",
   "version": "3.7.6"
  }
 },
 "nbformat": 4,
 "nbformat_minor": 4
}
