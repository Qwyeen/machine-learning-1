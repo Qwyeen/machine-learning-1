{
 "cells": [
  {
   "cell_type": "code",
   "execution_count": 1,
   "metadata": {},
   "outputs": [],
   "source": [
    "# Using Conv Nets to classify iamges\n",
    "# There are 5 categories: arctic fox, earless seal, penguin, polar bear, snow leopard\n",
    "# Each class has around 400 images in total\n",
    "# The data are split into training set (80%), validation set (10%), and test set (10%)\n",
    "# The model builds up convolutional network from scratch, and does not use any kind of data augmentation methods."
   ]
  },
  {
   "cell_type": "code",
   "execution_count": 2,
   "metadata": {},
   "outputs": [],
   "source": [
    "from keras import layers\n",
    "from keras import models"
   ]
  },
  {
   "cell_type": "code",
   "execution_count": 3,
   "metadata": {},
   "outputs": [],
   "source": [
    "model = models.Sequential()\n",
    "model.add(layers.Conv2D(32, (3, 3), activation='relu', input_shape=(150, 150, 3)))\n",
    "model.add(layers.MaxPooling2D((2, 2)))\n",
    "model.add(layers.Conv2D(64, (3, 3), activation='relu'))\n",
    "model.add(layers.MaxPooling2D((2, 2)))\n",
    "model.add(layers.Conv2D(128, (3, 3), activation='relu'))\n",
    "\n",
    "model.add(layers.Flatten())\n",
    "model.add(layers.Dense(64, activation='relu'))\n",
    "model.add(layers.Dense(5, activation='softmax'))"
   ]
  },
  {
   "cell_type": "code",
   "execution_count": 4,
   "metadata": {},
   "outputs": [
    {
     "name": "stdout",
     "output_type": "stream",
     "text": [
      "Model: \"sequential\"\n",
      "_________________________________________________________________\n",
      "Layer (type)                 Output Shape              Param #   \n",
      "=================================================================\n",
      "conv2d (Conv2D)              (None, 148, 148, 32)      896       \n",
      "_________________________________________________________________\n",
      "max_pooling2d (MaxPooling2D) (None, 74, 74, 32)        0         \n",
      "_________________________________________________________________\n",
      "conv2d_1 (Conv2D)            (None, 72, 72, 64)        18496     \n",
      "_________________________________________________________________\n",
      "max_pooling2d_1 (MaxPooling2 (None, 36, 36, 64)        0         \n",
      "_________________________________________________________________\n",
      "conv2d_2 (Conv2D)            (None, 34, 34, 128)       73856     \n",
      "_________________________________________________________________\n",
      "flatten (Flatten)            (None, 147968)            0         \n",
      "_________________________________________________________________\n",
      "dense (Dense)                (None, 64)                9470016   \n",
      "_________________________________________________________________\n",
      "dense_1 (Dense)              (None, 5)                 325       \n",
      "=================================================================\n",
      "Total params: 9,563,589\n",
      "Trainable params: 9,563,589\n",
      "Non-trainable params: 0\n",
      "_________________________________________________________________\n"
     ]
    }
   ],
   "source": [
    "model.summary()"
   ]
  },
  {
   "cell_type": "code",
   "execution_count": 5,
   "metadata": {},
   "outputs": [],
   "source": [
    "from keras import optimizers\n",
    "model.compile(optimizer='rmsprop',\n",
    "              loss='categorical_crossentropy',\n",
    "              metrics=['accuracy'])"
   ]
  },
  {
   "cell_type": "code",
   "execution_count": 6,
   "metadata": {},
   "outputs": [],
   "source": [
    "from keras.preprocessing.image import ImageDataGenerator\n",
    "# All images will be rescaled by 1./255\n",
    "train_datagen = ImageDataGenerator(rescale=1./255)\n",
    "test_datagen = ImageDataGenerator(rescale=1./255)"
   ]
  },
  {
   "cell_type": "code",
   "execution_count": 7,
   "metadata": {},
   "outputs": [],
   "source": [
    "import os,shutil"
   ]
  },
  {
   "cell_type": "code",
   "execution_count": 8,
   "metadata": {},
   "outputs": [],
   "source": [
    "base_dir = 'E:/pictures splited'\n",
    "train_dir = os.path.join(base_dir,'train')\n",
    "validation_dir = os.path.join(base_dir,'validation')"
   ]
  },
  {
   "cell_type": "code",
   "execution_count": 9,
   "metadata": {},
   "outputs": [
    {
     "name": "stdout",
     "output_type": "stream",
     "text": [
      "Found 1583 images belonging to 5 classes.\n"
     ]
    }
   ],
   "source": [
    "train_generator = train_datagen.flow_from_directory(\n",
    "        # This is the target directory\n",
    "        train_dir,\n",
    "        # All images will be resized to 150x150\n",
    "        target_size=(150, 150),\n",
    "        batch_size=32,\n",
    "        class_mode = 'categorical')"
   ]
  },
  {
   "cell_type": "code",
   "execution_count": 10,
   "metadata": {},
   "outputs": [
    {
     "name": "stdout",
     "output_type": "stream",
     "text": [
      "Found 400 images belonging to 5 classes.\n"
     ]
    }
   ],
   "source": [
    "validation_generator = test_datagen.flow_from_directory(\n",
    "        validation_dir,\n",
    "        target_size=(150, 150),\n",
    "        batch_size=32,\n",
    "        class_mode='categorical')"
   ]
  },
  {
   "cell_type": "code",
   "execution_count": 11,
   "metadata": {},
   "outputs": [
    {
     "name": "stdout",
     "output_type": "stream",
     "text": [
      "WARNING:tensorflow:From <ipython-input-11-2aeddf5a2b01>:1: Model.fit_generator (from tensorflow.python.keras.engine.training) is deprecated and will be removed in a future version.\n",
      "Instructions for updating:\n",
      "Please use Model.fit, which supports generators.\n",
      "Epoch 1/10\n",
      " 6/50 [==>...........................] - ETA: 36s - loss: 4.3677 - accuracy: 0.2396"
     ]
    },
    {
     "name": "stderr",
     "output_type": "stream",
     "text": [
      "C:\\ProgramData\\Anaconda3\\lib\\site-packages\\PIL\\Image.py:960: UserWarning: Palette images with Transparency expressed in bytes should be converted to RGBA images\n",
      "  warnings.warn(\n"
     ]
    },
    {
     "name": "stdout",
     "output_type": "stream",
     "text": [
      "50/50 [==============================] - 49s 970ms/step - loss: 2.0676 - accuracy: 0.2388 - val_loss: 1.4037 - val_accuracy: 0.3125\n",
      "Epoch 2/10\n",
      "50/50 [==============================] - 46s 927ms/step - loss: 1.4394 - accuracy: 0.4043 - val_loss: 1.3528 - val_accuracy: 0.3438\n",
      "Epoch 3/10\n",
      "50/50 [==============================] - 50s 998ms/step - loss: 1.2225 - accuracy: 0.5205 - val_loss: 1.2026 - val_accuracy: 0.5625\n",
      "Epoch 4/10\n",
      "50/50 [==============================] - 54s 1s/step - loss: 0.9701 - accuracy: 0.6292 - val_loss: 1.0005 - val_accuracy: 0.6875\n",
      "Epoch 5/10\n",
      "50/50 [==============================] - 51s 1s/step - loss: 0.7585 - accuracy: 0.7183 - val_loss: 0.6566 - val_accuracy: 0.7188\n",
      "Epoch 6/10\n",
      "50/50 [==============================] - 46s 921ms/step - loss: 0.5227 - accuracy: 0.8200 - val_loss: 1.5474 - val_accuracy: 0.4062\n",
      "Epoch 7/10\n",
      "50/50 [==============================] - 46s 924ms/step - loss: 0.3352 - accuracy: 0.8838 - val_loss: 1.2902 - val_accuracy: 0.5625\n",
      "Epoch 8/10\n",
      "50/50 [==============================] - 47s 950ms/step - loss: 0.1698 - accuracy: 0.9425 - val_loss: 1.8977 - val_accuracy: 0.5938\n",
      "Epoch 9/10\n",
      "50/50 [==============================] - 46s 926ms/step - loss: 0.1619 - accuracy: 0.9583 - val_loss: 2.0035 - val_accuracy: 0.5625\n",
      "Epoch 10/10\n",
      "50/50 [==============================] - 46s 926ms/step - loss: 0.1073 - accuracy: 0.9773 - val_loss: 1.9715 - val_accuracy: 0.5938\n"
     ]
    }
   ],
   "source": [
    "history = model.fit_generator(\n",
    "  train_generator,\n",
    "  epochs=10,\n",
    "  validation_data=validation_generator,\n",
    "  validation_steps = 1\n",
    ")"
   ]
  },
  {
   "cell_type": "code",
   "execution_count": 12,
   "metadata": {},
   "outputs": [
    {
     "data": {
      "text/plain": [
       "{'loss': [2.067624092102051,\n",
       "  1.4394152164459229,\n",
       "  1.2225100994110107,\n",
       "  0.9700801968574524,\n",
       "  0.7584925889968872,\n",
       "  0.5226662755012512,\n",
       "  0.33516648411750793,\n",
       "  0.16975367069244385,\n",
       "  0.1619267463684082,\n",
       "  0.10732585936784744],\n",
       " 'accuracy': [0.23878711462020874,\n",
       "  0.4042956531047821,\n",
       "  0.520530641078949,\n",
       "  0.6291850805282593,\n",
       "  0.7182564735412598,\n",
       "  0.8199620842933655,\n",
       "  0.8837649822235107,\n",
       "  0.9425142407417297,\n",
       "  0.9583070278167725,\n",
       "  0.9772583842277527],\n",
       " 'val_loss': [1.4036929607391357,\n",
       "  1.352846384048462,\n",
       "  1.20258367061615,\n",
       "  1.0005342960357666,\n",
       "  0.6565596461296082,\n",
       "  1.5473544597625732,\n",
       "  1.2902337312698364,\n",
       "  1.897654414176941,\n",
       "  2.0035359859466553,\n",
       "  1.9714562892913818],\n",
       " 'val_accuracy': [0.3125,\n",
       "  0.34375,\n",
       "  0.5625,\n",
       "  0.6875,\n",
       "  0.71875,\n",
       "  0.40625,\n",
       "  0.5625,\n",
       "  0.59375,\n",
       "  0.5625,\n",
       "  0.59375]}"
      ]
     },
     "execution_count": 12,
     "metadata": {},
     "output_type": "execute_result"
    }
   ],
   "source": [
    "history.history"
   ]
  },
  {
   "cell_type": "code",
   "execution_count": 13,
   "metadata": {},
   "outputs": [],
   "source": [
    "model.save('five_animals_from_scratch.h5')"
   ]
  },
  {
   "cell_type": "code",
   "execution_count": 14,
   "metadata": {},
   "outputs": [
    {
     "data": {
      "image/png": "[encoded data removed]",
      "text/plain": [
       "<Figure size 432x288 with 1 Axes>"
      ]
     },
     "metadata": {
      "needs_background": "light"
     },
     "output_type": "display_data"
    },
    {
     "data": {
      "image/png": "[encoded data removed]",
      "text/plain": [
       "<Figure size 432x288 with 1 Axes>"
      ]
     },
     "metadata": {
      "needs_background": "light"
     },
     "output_type": "display_data"
    }
   ],
   "source": [
    "import matplotlib.pyplot as plt\n",
    "\n",
    "acc = history.history['accuracy']\n",
    "val_acc = history.history['val_accuracy']\n",
    "loss = history.history['loss']\n",
    "val_loss = history.history['val_loss']\n",
    "\n",
    "epochs = range(len(acc))\n",
    "\n",
    "plt.plot(epochs, acc, 'bo', label='Training acc')\n",
    "plt.plot(epochs, val_acc, 'b', label='Validation acc')\n",
    "plt.title('Training and validation accuracy')\n",
    "plt.legend()\n",
    "\n",
    "plt.figure()\n",
    "\n",
    "plt.plot(epochs, loss, 'bo', label='Training loss')\n",
    "plt.plot(epochs, val_loss, 'b', label='Validation loss')\n",
    "plt.title('Training and validation loss')\n",
    "plt.legend()\n",
    "\n",
    "plt.show()"
   ]
  },
  {
   "cell_type": "code",
   "execution_count": 15,
   "metadata": {},
   "outputs": [
    {
     "name": "stdout",
     "output_type": "stream",
     "text": [
      "This model is overfitting.\n"
     ]
    }
   ],
   "source": [
    "print('This model is overfitting.')"
   ]
  },
  {
   "cell_type": "code",
   "execution_count": null,
   "metadata": {},
   "outputs": [],
   "source": []
  }
 ],
 "metadata": {
  "kernelspec": {
   "display_name": "Python 3",
   "language": "python",
   "name": "python3"
  },
  "language_info": {
   "codemirror_mode": {
    "name": "ipython",
    "version": 3
   },
   "file_extension": ".py",
   "mimetype": "text/x-python",
   "name": "python",
   "nbconvert_exporter": "python",
   "pygments_lexer": "ipython3",
   "version": "3.8.3"
  }
 },
 "nbformat": 4,
 "nbformat_minor": 4
}
